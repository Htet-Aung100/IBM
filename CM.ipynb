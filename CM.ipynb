{
    "cells": [
        {
            "cell_type": "code",
            "execution_count": 2,
            "metadata": {},
            "outputs": [
                {
                    "data": {
                        "text/html": "<div>\n<style scoped>\n    .dataframe tbody tr th:only-of-type {\n        vertical-align: middle;\n    }\n\n    .dataframe tbody tr th {\n        vertical-align: top;\n    }\n\n    .dataframe thead th {\n        text-align: right;\n    }\n</style>\n<table border=\"1\" class=\"dataframe\">\n  <thead>\n    <tr style=\"text-align: right;\">\n      <th></th>\n      <th>area_name_en</th>\n      <th>pcode</th>\n      <th>area_name_mm</th>\n      <th>15 above literacy rate</th>\n      <th>Invalid votes percentage (2015)</th>\n      <th>eligible voters (2015)</th>\n      <th>no of voters (2015) Voters</th>\n      <th>no. of vote cast at \\npolling station (2015) Voters</th>\n      <th>advance votes (2015) Voters</th>\n      <th>voters turnout (2015)</th>\n      <th>...</th>\n      <th>total invalid/loss votes (2015)</th>\n      <th>no of votes (No of Votes) (2015)</th>\n      <th>advance votes (No of Votes) (2015)</th>\n      <th>total no of votes and advance votes (No of Votes) (2015)</th>\n      <th>poverty rate</th>\n      <th>eligible voters (2010)</th>\n      <th>no of voters (2010)</th>\n      <th>voters turnout (2010)</th>\n      <th>Latitude</th>\n      <th>Longitude</th>\n    </tr>\n  </thead>\n  <tbody>\n    <tr>\n      <th>0</th>\n      <td>Kachin</td>\n      <td>MM01</td>\n      <td>????????????</td>\n      <td>91.70%</td>\n      <td>6.63%</td>\n      <td>877581.0</td>\n      <td>598283.0</td>\n      <td>546158.0</td>\n      <td>52125.0</td>\n      <td>68.17</td>\n      <td>...</td>\n      <td>39661.0</td>\n      <td>518341.0</td>\n      <td>40281.0</td>\n      <td>558622.0</td>\n      <td>36.60%</td>\n      <td>750916.0</td>\n      <td>531574.0</td>\n      <td>70.79</td>\n      <td>25.683652</td>\n      <td>97.140902</td>\n    </tr>\n    <tr>\n      <th>1</th>\n      <td>Kayah</td>\n      <td>MM02</td>\n      <td>???????????</td>\n      <td>82.10%</td>\n      <td>5.66%</td>\n      <td>178316.0</td>\n      <td>132018.0</td>\n      <td>121879.0</td>\n      <td>10139.0</td>\n      <td>74.04</td>\n      <td>...</td>\n      <td>7469.0</td>\n      <td>114688.0</td>\n      <td>9861.0</td>\n      <td>124549.0</td>\n      <td>32.00%</td>\n      <td>138563.0</td>\n      <td>132126.0</td>\n      <td>95.35</td>\n      <td>19.342079</td>\n      <td>97.367937</td>\n    </tr>\n    <tr>\n      <th>2</th>\n      <td>Kayin</td>\n      <td>MM03</td>\n      <td>???????????</td>\n      <td>74.40%</td>\n      <td>6.91%</td>\n      <td>904973.0</td>\n      <td>417579.0</td>\n      <td>369366.0</td>\n      <td>48213.0</td>\n      <td>46.14</td>\n      <td>...</td>\n      <td>28853.0</td>\n      <td>340513.0</td>\n      <td>48213.0</td>\n      <td>388726.0</td>\n      <td>24.20%</td>\n      <td>489679.0</td>\n      <td>348323.0</td>\n      <td>71.13</td>\n      <td>17.388381</td>\n      <td>97.668396</td>\n    </tr>\n    <tr>\n      <th>3</th>\n      <td>Chin</td>\n      <td>MM04</td>\n      <td>????????????</td>\n      <td>79.40%</td>\n      <td>3.36%</td>\n      <td>274328.0</td>\n      <td>217687.0</td>\n      <td>202201.0</td>\n      <td>15486.0</td>\n      <td>79.35</td>\n      <td>...</td>\n      <td>7314.0</td>\n      <td>195457.0</td>\n      <td>14916.0</td>\n      <td>210373.0</td>\n      <td>58.00%</td>\n      <td>233474.0</td>\n      <td>198368.0</td>\n      <td>84.96</td>\n      <td>22.149120</td>\n      <td>93.474408</td>\n    </tr>\n    <tr>\n      <th>4</th>\n      <td>Sagaing</td>\n      <td>MM05</td>\n      <td>??????????????????????</td>\n      <td>93.70%</td>\n      <td>4.86%</td>\n      <td>3803849.0</td>\n      <td>2846240.0</td>\n      <td>2684798.0</td>\n      <td>161442.0</td>\n      <td>74.83</td>\n      <td>...</td>\n      <td>138317.0</td>\n      <td>2549920.0</td>\n      <td>158003.0</td>\n      <td>2707923.0</td>\n      <td>30.70%</td>\n      <td>3117666.0</td>\n      <td>2277657.0</td>\n      <td>73.06</td>\n      <td>24.480493</td>\n      <td>95.611204</td>\n    </tr>\n  </tbody>\n</table>\n<p>5 rows \u00d7 22 columns</p>\n</div>",
                        "text/plain": "  area_name_en pcode            area_name_mm 15 above literacy rate  \\\n0       Kachin  MM01            ????????????                 91.70%   \n1        Kayah  MM02             ???????????                 82.10%   \n2        Kayin  MM03             ???????????                 74.40%   \n3         Chin  MM04            ????????????                 79.40%   \n4      Sagaing  MM05  ??????????????????????                 93.70%   \n\n  Invalid votes percentage (2015)  eligible voters (2015)  \\\n0                           6.63%                877581.0   \n1                           5.66%                178316.0   \n2                           6.91%                904973.0   \n3                           3.36%                274328.0   \n4                           4.86%               3803849.0   \n\n   no of voters (2015) Voters  \\\n0                    598283.0   \n1                    132018.0   \n2                    417579.0   \n3                    217687.0   \n4                   2846240.0   \n\n   no. of vote cast at \\npolling station (2015) Voters  \\\n0                                           546158.0     \n1                                           121879.0     \n2                                           369366.0     \n3                                           202201.0     \n4                                          2684798.0     \n\n   advance votes (2015) Voters  voters turnout (2015)  ...  \\\n0                      52125.0                  68.17  ...   \n1                      10139.0                  74.04  ...   \n2                      48213.0                  46.14  ...   \n3                      15486.0                  79.35  ...   \n4                     161442.0                  74.83  ...   \n\n   total invalid/loss votes (2015)  no of votes (No of Votes) (2015)  \\\n0                          39661.0                          518341.0   \n1                           7469.0                          114688.0   \n2                          28853.0                          340513.0   \n3                           7314.0                          195457.0   \n4                         138317.0                         2549920.0   \n\n   advance votes (No of Votes) (2015)  \\\n0                             40281.0   \n1                              9861.0   \n2                             48213.0   \n3                             14916.0   \n4                            158003.0   \n\n   total no of votes and advance votes (No of Votes) (2015)  poverty rate  \\\n0                                           558622.0               36.60%   \n1                                           124549.0               32.00%   \n2                                           388726.0               24.20%   \n3                                           210373.0               58.00%   \n4                                          2707923.0               30.70%   \n\n   eligible voters (2010) no of voters (2010)  voters turnout (2010)  \\\n0                750916.0            531574.0                  70.79   \n1                138563.0            132126.0                  95.35   \n2                489679.0            348323.0                  71.13   \n3                233474.0            198368.0                  84.96   \n4               3117666.0           2277657.0                  73.06   \n\n    Latitude  Longitude  \n0  25.683652  97.140902  \n1  19.342079  97.367937  \n2  17.388381  97.668396  \n3  22.149120  93.474408  \n4  24.480493  95.611204  \n\n[5 rows x 22 columns]"
                    },
                    "execution_count": 2,
                    "metadata": {},
                    "output_type": "execute_result"
                }
            ],
            "source": "\nbody = client_258282682b42404788d954ee85d158b1.get_object(Bucket='nn-donotdelete-pr-jsutkcbgwwwyv9',Key='project file.csv')['Body']\n# add missing __iter__ method, so pandas accepts body as file-like object\nif not hasattr(body, \"__iter__\"): body.__iter__ = types.MethodType( __iter__, body )\n\ndf_data_2 = pd.read_csv(body)\ndf_data_2.head()\n"
        },
        {
            "cell_type": "code",
            "execution_count": null,
            "metadata": {},
            "outputs": [],
            "source": ""
        }
    ],
    "metadata": {
        "kernelspec": {
            "display_name": "Python 3.7",
            "language": "python",
            "name": "python3"
        },
        "language_info": {
            "codemirror_mode": {
                "name": "ipython",
                "version": 3
            },
            "file_extension": ".py",
            "mimetype": "text/x-python",
            "name": "python",
            "nbconvert_exporter": "python",
            "pygments_lexer": "ipython3",
            "version": "3.7.9"
        }
    },
    "nbformat": 4,
    "nbformat_minor": 1
}